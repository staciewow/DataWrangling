{
 "cells": [
  {
   "cell_type": "markdown",
   "metadata": {},
   "source": [
    "## Part I. Iterative Parsing"
   ]
  },
  {
   "cell_type": "code",
   "execution_count": 1,
   "metadata": {
    "collapsed": true
   },
   "outputs": [],
   "source": [
    "import xml.etree.ElementTree as ET\n",
    "import pprint\n",
    "from collections import defaultdict"
   ]
  },
  {
   "cell_type": "code",
   "execution_count": 2,
   "metadata": {
    "collapsed": true
   },
   "outputs": [],
   "source": [
    "def count_tags(filename):\n",
    "#         counts = dict()\n",
    "#         for line in ET.iterparse(filename):\n",
    "#             current = line[1].tag\n",
    "#             counts[current] = counts.get(current, 0) + 1\n",
    "    counts = defaultdict(int)\n",
    "    for line in ET.iterparse(filename):\n",
    "        current = line[1].tag\n",
    "        counts[current] += 1\n",
    "    return counts"
   ]
  },
  {
   "cell_type": "code",
   "execution_count": 4,
   "metadata": {},
   "outputs": [
    {
     "name": "stdout",
     "output_type": "stream",
     "text": [
      "defaultdict(<class 'int'>,\n",
      "            {'bounds': 1,\n",
      "             'member': 3,\n",
      "             'nd': 4,\n",
      "             'node': 20,\n",
      "             'osm': 1,\n",
      "             'relation': 1,\n",
      "             'tag': 7,\n",
      "             'way': 1})\n"
     ]
    }
   ],
   "source": [
    "def test():\n",
    "\n",
    "    tags = count_tags('example.osm.xml')\n",
    "    pprint.pprint(tags)\n",
    "    assert tags == {'bounds': 1,\n",
    "                     'member': 3,\n",
    "                     'nd': 4,\n",
    "                     'node': 20,\n",
    "                     'osm': 1,\n",
    "                     'relation': 1,\n",
    "                     'tag': 7,\n",
    "                     'way': 1}\n",
    "\n",
    "    \n",
    "\n",
    "if __name__ == \"__main__\":\n",
    "    test()"
   ]
  },
  {
   "cell_type": "markdown",
   "metadata": {},
   "source": [
    "## Part II. Tag Types"
   ]
  },
  {
   "cell_type": "code",
   "execution_count": 5,
   "metadata": {
    "collapsed": true
   },
   "outputs": [],
   "source": [
    "import xml.etree.ElementTree as ET\n",
    "import pprint\n",
    "import re"
   ]
  },
  {
   "cell_type": "code",
   "execution_count": 6,
   "metadata": {
    "collapsed": true
   },
   "outputs": [],
   "source": [
    "lower = re.compile(r'^([a-z]|_)*$')\n",
    "lower_colon = re.compile(r'^([a-z]|_)*:([a-z]|_)*$')\n",
    "problemchars = re.compile(r'[=\\+/&<>;\\'\"\\?%#$@\\,\\. \\t\\r\\n]')"
   ]
  },
  {
   "cell_type": "code",
   "execution_count": 7,
   "metadata": {
    "collapsed": true
   },
   "outputs": [],
   "source": [
    "def key_type(element, keys):\n",
    "    if element.tag == \"tag\":\n",
    "        k_value = element.attrib['k']\n",
    "        if lower.search(k_value) is not None:\n",
    "            keys['lower'] += 1\n",
    "        elif lower_colon.search(k_value) is not None:\n",
    "            keys['lower_colon'] += 1\n",
    "        elif problemchars.search(k_value) is not None:\n",
    "            keys[\"problemchars\"] += 1\n",
    "        else:\n",
    "            keys['other'] += 1\n",
    "\n",
    "    return keys"
   ]
  },
  {
   "cell_type": "code",
   "execution_count": 8,
   "metadata": {
    "collapsed": true
   },
   "outputs": [],
   "source": [
    "def process_map(filename):\n",
    "    keys = {\"lower\": 0, \"lower_colon\": 0, \"problemchars\": 0, \"other\": 0}\n",
    "    for _, element in ET.iterparse(filename):\n",
    "        keys = key_type(element, keys)\n",
    "\n",
    "    return keys"
   ]
  },
  {
   "cell_type": "code",
   "execution_count": 10,
   "metadata": {},
   "outputs": [
    {
     "name": "stdout",
     "output_type": "stream",
     "text": [
      "{'lower': 7, 'lower_colon': 0, 'other': 0, 'problemchars': 0}\n"
     ]
    }
   ],
   "source": [
    "def test():\n",
    "    # You can use another testfile 'map.osm' to look at your solution\n",
    "    # Note that the assertions will be incorrect then.\n",
    "    keys = process_map('example.osm.xml')\n",
    "    pprint.pprint(keys)\n",
    "    #assert keys == {'lower': 5, 'lower_colon': 0, 'other': 1, 'problemchars': 1}\n",
    "\n",
    "\n",
    "if __name__ == \"__main__\":\n",
    "    test()"
   ]
  },
  {
   "cell_type": "markdown",
   "metadata": {},
   "source": [
    "## Part III. Exploring Users"
   ]
  },
  {
   "cell_type": "code",
   "execution_count": 11,
   "metadata": {
    "collapsed": true
   },
   "outputs": [],
   "source": [
    "import xml.etree.ElementTree as ET\n",
    "import pprint\n",
    "import re"
   ]
  },
  {
   "cell_type": "code",
   "execution_count": 12,
   "metadata": {
    "collapsed": true
   },
   "outputs": [],
   "source": [
    "def get_user(element):\n",
    "    return"
   ]
  },
  {
   "cell_type": "code",
   "execution_count": 13,
   "metadata": {
    "collapsed": true
   },
   "outputs": [],
   "source": [
    "def process_map(filename):\n",
    "    users = set()\n",
    "    for not_used, element in ET.iterparse(filename):\n",
    "        #print \"TAG:\", element.tag\n",
    "        #pprint.pprint(element.attrib)\n",
    "        if element.tag == \"node\" or element.tag == \"way\" or element.tag == \"relation\":\n",
    "            users.add(element.attrib['uid'])\n",
    "            #pprint.pprint(element.attrib['uid'])\n",
    "\n",
    "    return users"
   ]
  },
  {
   "cell_type": "code",
   "execution_count": 15,
   "metadata": {},
   "outputs": [
    {
     "name": "stdout",
     "output_type": "stream",
     "text": [
      "{'26299', '1219059', '451048', '147510', '939355', '567034'}\n"
     ]
    }
   ],
   "source": [
    "def test():\n",
    "\n",
    "    users = process_map('example.osm.xml')\n",
    "    pprint.pprint(users)\n",
    "    assert len(users) == 6\n",
    "    \n",
    "if __name__ == \"__main__\":\n",
    "    test()"
   ]
  },
  {
   "cell_type": "markdown",
   "metadata": {},
   "source": [
    "## Part IV. Improving Street Names"
   ]
  },
  {
   "cell_type": "code",
   "execution_count": 16,
   "metadata": {
    "collapsed": true
   },
   "outputs": [],
   "source": [
    "import xml.etree.cElementTree as ET\n",
    "from collections import defaultdict\n",
    "import re\n",
    "import pprint"
   ]
  },
  {
   "cell_type": "code",
   "execution_count": 18,
   "metadata": {
    "collapsed": true
   },
   "outputs": [],
   "source": [
    "OSMFILE = \"example.osm.xml\"\n",
    "street_type_re = re.compile(r'\\b\\S+\\.?$', re.IGNORECASE)\n",
    "\n",
    "\n",
    "expected = [\"Street\", \"Avenue\", \"Boulevard\", \"Drive\", \"Court\", \"Place\", \"Square\", \"Lane\", \"Road\", \n",
    "            \"Trail\", \"Parkway\", \"Commons\"]\n",
    "\n",
    "# UPDATE THIS VARIABLE\n",
    "mapping = { \"St\": \"Street\",\n",
    "            \"St.\": \"Street\",\n",
    "            \"Ave\": \"Avenue\",\n",
    "            \"Rd.\": \"Road\",\n",
    "            \"W.\": \"West\",\n",
    "            \"N.\": \"North\",\n",
    "            \"S.\": \"South\",\n",
    "            \"E\": \"East\"}"
   ]
  },
  {
   "cell_type": "code",
   "execution_count": 19,
   "metadata": {
    "collapsed": true
   },
   "outputs": [],
   "source": [
    "def audit_street_type(street_types, street_name):\n",
    "    m = street_type_re.search(street_name)\n",
    "    if m:\n",
    "        street_type = m.group()\n",
    "        if street_type not in expected:\n",
    "            street_types[street_type].add(street_name)"
   ]
  },
  {
   "cell_type": "code",
   "execution_count": 20,
   "metadata": {
    "collapsed": true
   },
   "outputs": [],
   "source": [
    "def is_street_name(elem):\n",
    "    return (elem.attrib['k'] == \"addr:street\")"
   ]
  },
  {
   "cell_type": "code",
   "execution_count": 32,
   "metadata": {
    "collapsed": true
   },
   "outputs": [],
   "source": [
    "def audit(osmfile):\n",
    "    \"\"\"\n",
    "    Returns a list of problematic street type values\n",
    "    for use with the update() name mapping.\n",
    "    \"\"\"\n",
    "    osm_file = open(osmfile, \"r\")\n",
    "    street_types = defaultdict(set)\n",
    "    parser = ET.iterparse(osm_file, events=(\"start\",))\n",
    "    for event, elem in parser:\n",
    "        if elem.tag == \"node\" or elem.tag == \"way\":\n",
    "            for tag in elem.iter(\"tag\"):\n",
    "                if is_street_name(tag):\n",
    "                    audit_street_type(street_types, tag.attrib['v'])\n",
    "        # Safe to clear() now that descendants have been accessed\n",
    "        elem.clear()\n",
    "    del parser\n",
    "    return street_types"
   ]
  },
  {
   "cell_type": "code",
   "execution_count": 29,
   "metadata": {
    "collapsed": true
   },
   "outputs": [],
   "source": [
    "def update(name, mapping):\n",
    "    \"\"\"\n",
    "    Implemented in data.py\n",
    "    Updates ALL substrings in string 'name' to\n",
    "    their values in dictionary 'mapping'\n",
    "    \"\"\"\n",
    "    words = name.split()\n",
    "    for w in range(len(words)):\n",
    "        if words[w] in mapping:\n",
    "            if words[w-1].lower() not in ['suite', 'ste.', 'ste']: # For example, don't update 'Suite E' to 'Suite East'\n",
    "                words[w] = mapping[words[w]]\n",
    "    name = \" \".join(words)\n",
    "    return name"
   ]
  },
  {
   "cell_type": "code",
   "execution_count": 30,
   "metadata": {
    "collapsed": true
   },
   "outputs": [],
   "source": [
    "def update_name(name, mapping):\n",
    "    \"\"\"\n",
    "    If the last substring of string 'name' is an int,\n",
    "    updates all substrings in 'name', else updates\n",
    "    only the last substring.\n",
    "    \"\"\"\n",
    "    m = street_type_re.search(name)\n",
    "    m = m.group()\n",
    "    # Fix all substrings in an address ending with a number.\n",
    "    # Example: 'S Tryon St Ste 105' to 'South Tryon Street Suite 105'\n",
    "    try:\n",
    "        __ = int(m)\n",
    "        words = name.split()[:-1]\n",
    "        for w in range(len(words)):\n",
    "            if words[w] in mapping:\n",
    "                words[w] = mapping[words[w]]\n",
    "        words.append(m)\n",
    "        address = \" \".join(words)\n",
    "        return address\n",
    "    # Otherwise, fix only the last substring in the address\n",
    "    # Example: 'This St.' to 'This Street'\n",
    "    except ValueError:        \n",
    "        i = name.index(m)\n",
    "        if m in mapping:\n",
    "            name = name[:i] + mapping[m]\n",
    "    return name\n"
   ]
  },
  {
   "cell_type": "code",
   "execution_count": 34,
   "metadata": {},
   "outputs": [],
   "source": [
    "def main_test():\n",
    "    st_types = audit(\"charlotte.osm\")\n",
    "    assert len(st_types) == 19\n",
    "    pprint.pprint(dict(st_types))\n",
    "    for st_type, ways in st_types.iteritems():\n",
    "        for name in ways:\n",
    "            better_name = update(name, mapping)\n",
    "            print (name, \"=>\", better_name)\n",
    "            if name == \"West Stanly St.\":\n",
    "                assert better_name == \"West Stanly Street\"\n",
    "            if name == \"S Tryon St Ste 105\":\n",
    "                assert better_name == \"South Tryon Street Suite 105\""
   ]
  },
  {
   "cell_type": "code",
   "execution_count": 39,
   "metadata": {},
   "outputs": [
    {
     "name": "stdout",
     "output_type": "stream",
     "text": [
      "{}\n"
     ]
    }
   ],
   "source": [
    "def example_test():\n",
    "    st_types = audit(\"example.osm.xml\")\n",
    "    #assert len(st_types) == 6\n",
    "    pprint.pprint(dict(st_types))\n",
    "    for st_type, ways in st_types.items():\n",
    "        for name in ways:\n",
    "            better_name = update(name, mapping)\n",
    "            print (name, \"=>\", better_name)\n",
    "            if name == \"Winthrop Ave\":\n",
    "                assert better_name == \"Winthrop Avenue\"\n",
    "            if name == \"W 9th St\":\n",
    "                assert better_name == \"West 9th Street\"\n",
    "\n",
    "\n",
    "if __name__ == '__main__':\n",
    "    example_test()"
   ]
  },
  {
   "cell_type": "code",
   "execution_count": null,
   "metadata": {
    "collapsed": true
   },
   "outputs": [],
   "source": []
  }
 ],
 "metadata": {
  "kernelspec": {
   "display_name": "Python 3",
   "language": "python",
   "name": "python3"
  },
  "language_info": {
   "codemirror_mode": {
    "name": "ipython",
    "version": 3
   },
   "file_extension": ".py",
   "mimetype": "text/x-python",
   "name": "python",
   "nbconvert_exporter": "python",
   "pygments_lexer": "ipython3",
   "version": "3.6.3"
  }
 },
 "nbformat": 4,
 "nbformat_minor": 2
}
