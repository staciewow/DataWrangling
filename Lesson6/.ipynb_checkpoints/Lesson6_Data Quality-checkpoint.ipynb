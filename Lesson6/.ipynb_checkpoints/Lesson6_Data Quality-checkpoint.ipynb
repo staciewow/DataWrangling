{
 "cells": [
  {
   "cell_type": "markdown",
   "metadata": {},
   "source": [
    "### Auditing Data Quality "
   ]
  },
  {
   "cell_type": "code",
   "execution_count": 1,
   "metadata": {
    "collapsed": true
   },
   "outputs": [],
   "source": [
    "import codecs\n",
    "import csv\n",
    "import json\n",
    "import pprint\n",
    "\n",
    "CITIES = 'cities.csv'"
   ]
  },
  {
   "cell_type": "code",
   "execution_count": 2,
   "metadata": {
    "collapsed": true
   },
   "outputs": [],
   "source": [
    "FIELDS = [\"name\", \"timeZone_label\", \"utcOffset\", \"homepage\", \"governmentType_label\",\n",
    "          \"isPartOf_label\", \"areaCode\", \"populationTotal\", \"elevation\",\n",
    "          \"maximumElevation\", \"minimumElevation\", \"populationDensity\",\n",
    "          \"wgs84_pos#lat\", \"wgs84_pos#long\", \"areaLand\", \"areaMetro\", \"areaUrban\"]"
   ]
  },
  {
   "cell_type": "code",
   "execution_count": 5,
   "metadata": {
    "collapsed": true
   },
   "outputs": [],
   "source": [
    "def audit_file(filename, fields):\n",
    "    fieldtypes = {}\n",
    "    for field in fields:\n",
    "        fieldtypes[field] = set([])\n",
    "\n",
    "    # YOUR CODE HERE\n",
    "    with open(filename, 'r') as f:\n",
    "        reader = csv.DictReader(f)\n",
    "        \n",
    "        #skipping the extra metadata\n",
    "        for i in range(3):\n",
    "            next(reader)\n",
    "\n",
    "        # processing file\n",
    "        for row in reader:\n",
    "            for field in fields:\n",
    "                value = row[field]\n",
    "                if value == 'NULL' or value == '':\n",
    "                    fieldtypes[field].add(type(None))\n",
    "                elif value.startswith('{'):\n",
    "                    fieldtypes[field].add(list)\n",
    "                else:\n",
    "                    try:\n",
    "                        value = int(value)\n",
    "                        fieldtypes[field].add(int)\n",
    "                    except ValueError:\n",
    "                        try:\n",
    "                            value = float(value)\n",
    "                            fieldtypes[field].add(float)\n",
    "                        except ValueError:\n",
    "                            fieldtypes[field].add(str)\n",
    "\n",
    "    return fieldtypes"
   ]
  },
  {
   "cell_type": "code",
   "execution_count": 6,
   "metadata": {},
   "outputs": [],
   "source": [
    "fieldtypes = audit_file(CITIES, FIELDS)"
   ]
  },
  {
   "cell_type": "code",
   "execution_count": 7,
   "metadata": {},
   "outputs": [
    {
     "data": {
      "text/plain": [
       "{'areaCode': {list, NoneType, str, int},\n",
       " 'areaLand': {float, NoneType, list},\n",
       " 'areaMetro': {float, NoneType, list},\n",
       " 'areaUrban': {float, NoneType, list},\n",
       " 'elevation': {float, NoneType, list},\n",
       " 'governmentType_label': {list, NoneType, str},\n",
       " 'homepage': {list, NoneType, str},\n",
       " 'isPartOf_label': {list, NoneType, str},\n",
       " 'maximumElevation': {float, NoneType, list},\n",
       " 'minimumElevation': {float, NoneType},\n",
       " 'name': {list, NoneType, str},\n",
       " 'populationDensity': {float, NoneType, list},\n",
       " 'populationTotal': {list, NoneType, int},\n",
       " 'timeZone_label': {list, NoneType, str},\n",
       " 'utcOffset': {str, int, float, list, NoneType},\n",
       " 'wgs84_pos#lat': {float, list, NoneType},\n",
       " 'wgs84_pos#long': {float, list, NoneType}}"
      ]
     },
     "execution_count": 7,
     "metadata": {},
     "output_type": "execute_result"
    }
   ],
   "source": [
    "fieldtypes"
   ]
  },
  {
   "cell_type": "markdown",
   "metadata": {},
   "source": [
    "### Fixing the Area "
   ]
  },
  {
   "cell_type": "code",
   "execution_count": 24,
   "metadata": {},
   "outputs": [],
   "source": [
    "def fix_area(area):\n",
    "\n",
    "    if area == \"NULL\":\n",
    "        return None\n",
    "    elif area[0] == \"{\":\n",
    "        l = area.strip(\"{}\").split(\"|\")\n",
    "        # Get string without 0's\n",
    "        l1, l2 = str(l[0]).replace(\"e+\", \"\").replace(\"0\", \"\"), str(l[1]).replace(\"e+\", \"\").replace(\"0\", \"\")\n",
    "        # Compare length of non-zero \"significant\" digits\n",
    "        # Then return original which has more as a float\n",
    "        if len(l1) > len(l2):\n",
    "            return float(l[0])\n",
    "        else:\n",
    "            return float(l[1])\n",
    "    return float(area)"
   ]
  },
  {
   "cell_type": "code",
   "execution_count": 25,
   "metadata": {
    "collapsed": true
   },
   "outputs": [],
   "source": [
    "def process_file(filename):\n",
    "    # CHANGES TO THIS FUNCTION WILL BE IGNORED WHEN YOU SUBMIT THE EXERCISE\n",
    "    data = []\n",
    "\n",
    "    with open(filename, \"r\") as f:\n",
    "        reader = csv.DictReader(f)\n",
    "\n",
    "        #skipping the extra matadata\n",
    "        for i in range(3):\n",
    "            l = next(reader)\n",
    "\n",
    "        # processing file\n",
    "        for line in reader:\n",
    "            # calling your function to fix the area value\n",
    "            if \"areaLand\" in line:\n",
    "                line[\"areaLand\"] = fix_area(line[\"areaLand\"])\n",
    "            data.append(line)\n",
    "\n",
    "    return data"
   ]
  },
  {
   "cell_type": "code",
   "execution_count": 27,
   "metadata": {},
   "outputs": [],
   "source": [
    "result = process_file(CITIES)"
   ]
  },
  {
   "cell_type": "markdown",
   "metadata": {},
   "source": [
    "### Fixing Names"
   ]
  },
  {
   "cell_type": "code",
   "execution_count": 32,
   "metadata": {
    "collapsed": true
   },
   "outputs": [],
   "source": [
    "def fix_name(name):\n",
    "\n",
    "    # YOUR CODE HERE\n",
    "    if name.startswith('{'):\n",
    "        nameList = name.replace('{','').replace('}','').split('|')\n",
    "        return nameList\n",
    "    elif name == 'NULL':\n",
    "        return []\n",
    "    else:\n",
    "        return [name]"
   ]
  },
  {
   "cell_type": "code",
   "execution_count": 33,
   "metadata": {
    "collapsed": true
   },
   "outputs": [],
   "source": [
    "def process_file(filename):\n",
    "    data = []\n",
    "    with open(filename, \"r\") as f:\n",
    "        reader = csv.DictReader(f)\n",
    "\n",
    "        #skipping the extra metadata\n",
    "        for i in range(3):\n",
    "            l = next(reader)\n",
    "\n",
    "        # processing file\n",
    "        for line in reader:\n",
    "            # calling your function to fix the area value\n",
    "            if \"name\" in line:\n",
    "                line[\"name\"] = fix_name(line[\"name\"])\n",
    "            data.append(line)\n",
    "    return data"
   ]
  },
  {
   "cell_type": "code",
   "execution_count": 34,
   "metadata": {},
   "outputs": [
    {
     "name": "stderr",
     "output_type": "stream",
     "text": [
      "IOPub data rate exceeded.\n",
      "The notebook server will temporarily stop sending output\n",
      "to the client in order to avoid crashing it.\n",
      "To change this limit, set the config variable\n",
      "`--NotebookApp.iopub_data_rate_limit`.\n"
     ]
    }
   ],
   "source": [
    "result = process_file(CITIES)"
   ]
  },
  {
   "cell_type": "code",
   "execution_count": 35,
   "metadata": {},
   "outputs": [
    {
     "name": "stdout",
     "output_type": "stream",
     "text": [
      "'Kud'\n",
      "'Kuju'\n",
      "'Kumbhraj'\n",
      "'Kumhari'\n",
      "'{Kundagola|Kundgol ಕುಂದಗೋಳ}'\n",
      "'Kunigal'\n",
      "'Kunzer'\n",
      "'{Kurduvadi|कुर्डुवाडी}'\n",
      "'Kurgunta'\n",
      "'Kurinjipadi'\n",
      "'Kurud'\n",
      "'Kushtagi'\n",
      "'{Ladnun|लाडनूँ}'\n",
      "'{Lahar|लहार}'\n",
      "'Laharpur'\n",
      "'Lakheri'\n",
      "'Lakhipur'\n",
      "'{Laksar|लक्सर}'\n",
      "'Lalkuan'\n",
      "'Lalsot'\n"
     ]
    }
   ],
   "source": [
    "for n in range(20):\n",
    "    pprint.pprint(result[n][\"name\"])"
   ]
  },
  {
   "cell_type": "markdown",
   "metadata": {},
   "source": [
    "### Crossfield Auditing "
   ]
  },
  {
   "cell_type": "code",
   "execution_count": 36,
   "metadata": {
    "collapsed": true
   },
   "outputs": [],
   "source": [
    "def check_loc(point, lat, longi):\n",
    "    # YOUR CODE HERE\n",
    "    pointList = point.split(' ')\n",
    "    if lat == pointList[0]:\n",
    "        return longi == pointList[1]\n",
    "    else:\n",
    "        return False"
   ]
  },
  {
   "cell_type": "code",
   "execution_count": 40,
   "metadata": {},
   "outputs": [],
   "source": [
    "def process_file(filename):\n",
    "    data = []\n",
    "    with open(filename, \"r\") as f:\n",
    "        reader = csv.DictReader(f)\n",
    "        # skipping the extra metadata\n",
    "        for i in range(3):\n",
    "            l = next(reader)\n",
    "        # processing file\n",
    "        for line in reader:\n",
    "            # calling your function to check the location\n",
    "            result = check_loc(line[\"point\"], line[\"wgs84_pos#lat\"],\n",
    "                               line[\"wgs84_pos#long\"])\n",
    "            if not result:\n",
    "                print (\"{}: {} != {} {}\".format(line[\"name\"], line[\"point\"],\n",
    "                                               line[\"wgs84_pos#lat\"],\n",
    "                                               line[\"wgs84_pos#long\"]))\n",
    "            data.append(line)\n",
    "\n",
    "    return data"
   ]
  },
  {
   "cell_type": "code",
   "execution_count": 44,
   "metadata": {},
   "outputs": [
    {
     "name": "stdout",
     "output_type": "stream",
     "text": [
      "Madambakkam: 12.903848 80.15861 != 12.9038 80.1586\n",
      "Malihabad: {26.92 80.72|26.94 80.72} != {26.92|26.94} 80.72\n",
      "Malkapur: {20.52 76.12|20.535997 76.112408} != {20.52|20.536} {76.1124|76.12}\n",
      "{Masaurhi|मसौढ़ी}: {25.21 85.02|25.35 85.03333333333333} != {25.21|25.35} {85.02|85.0333}\n",
      "Musafirkhana: {26.37 81.8|26.45 81.8} != {26.37|26.45} 81.8\n",
      "{Narwana|thumbnail}: {29.616667 76.1116667|29.616667 76.116667} != 29.6167 {76.1117|76.1167}\n",
      "Naspur: {18.83 79.45|18.860402 79.484882} != {18.83|18.8604} {79.45|79.4849}\n",
      "Navalpattu: {10.7375 78.76722222222222|10.7425 78.76666666666667} != {10.7375|10.7425} {78.7667|78.7672}\n",
      "Nowshera: {33.04 74.14|34.13 74.8} != {33.04|34.13} {74.14|74.8}\n",
      "{Palayam|Palayam Kanyakumari}: 8.483333333333333 76.91666666666667 != 8.48333 76.9167\n",
      "Pansemal: {21.65 74.7|21.66 74.7} != {21.65|21.66} 74.7\n",
      "{Patur|पातूर}: {20.45 76.93|20.46 76.94} != {20.45|20.46} {76.93|76.94}\n",
      "Periyakulam: {10.07 77.33|10.12 77.55} != {10.07|10.12} {77.33|77.55}\n",
      "{Pedne / पेडणें|Pernem}: 15.716944444444444 73.79777777777778 != 15.7169 73.7978\n",
      "{Phulwari Sharif|फुलवारी शरीफ़}: 25.57749 85.079361 != 25.5775 85.0794\n",
      "{Rajpur Sonarpur|রাজপুর সোনারপুর}: {22.41 88.42|22.42 88.42} != {22.41|22.42} 88.42\n",
      "{Sailu|सेलू}: {19.442 76.429|19.47 76.47} != {19.442|19.47} {76.429|76.47}\n",
      "Sarupathar Bengali: 27.480555555555554 94.90916666666666 != 27.4806 94.9092\n",
      "Shamli: {29.448055555555555 77.31027777777778|29.45 77.32} != {29.4481|29.45} {77.3103|77.32}\n",
      "Sihora: {23.0 80.12|23.48 80.12} != {23.0|23.48} 80.12\n",
      "{Sihor|સિહોર}: {21.425277 71.573604|21.7 71.97} != {21.4253|21.7} {71.5736|71.97}\n",
      "{Suratgarh|सूरतगढ़}: {29.317700833333333 73.89893483333333|29.317701 73.898935} != 29.3177 73.8989\n",
      "Talwara: {31.9 75.65|31.95 75.87} != {31.9|31.95} {75.65|75.87}\n",
      "Thiruppanandal: 11.096111111111112 79.46944444444445 != 11.0961 79.4694\n",
      "Titron: {29.668 77.323|29.67 77.32} != {29.668|29.67} {77.32|77.323}\n",
      "Ujhani: {28.02 79.02|28.35 79.02} != {28.02|28.35} 79.02\n",
      "Vadnagar: {23.78 72.63|23.785 72.64} != {23.78|23.785} {72.63|72.64}\n",
      "Velur: {10.1 76.25|11.1 78.02} != {10.1|11.1} {76.25|78.02}\n",
      "{Ech|Echt}: 51.1 5.883333333333333 != 51.1 5.88333\n",
      "Bukuru: 9.8 8.866666666666667 != 9.8 8.86667\n",
      "{Pochutla|San Pedro Pochutla}: {15.733333333333333 -96.46666666666667|15.744444444444444 -96.46527777777777} != {15.7333|15.7444} {-96.4667|-96.4653}\n",
      "Bakerhill Alabama: {31.781388888888888 -85.30222222222223|31.88495 -85.1539} != {31.7814|31.885} {-85.3022|-85.1539}\n",
      "{City of Santa Clarita|Santa Clarita California}: {34.416561 -118.506443|34.416666666666664 -118.50638888888889} != {34.4166|34.4167} -118.506\n",
      "Murray Hill Queens: 40.76248611111111 -73.81454166666667 != 40.7625 -73.8145\n",
      "{Longhai|龙海|龙海市}: {24.383333333333333 117.76666666666667|24.4 118.05} != {24.3833|24.4} {117.767|118.05}\n",
      "Tamazula de Gordiano: 19.633333333333333 -103.25 != 19.6333 -103.25\n",
      "Brazos Bend Texas: 32.47805555555556 -97.75805555555556 != 32.4781 -97.7581\n",
      "Cresson Texas: 32.5325 -97.61777777777777 != 32.5325 -97.6178\n",
      "Iola Texas: 30.771944444444443 -96.075 != 30.7719 -96.075\n",
      "南島原市: 32.666666666666664 130.3 != 32.6667 130.3\n",
      "雲仙市: 32.833333333333336 130.18333333333334 != 32.8333 130.183\n",
      "{Ramgarh|रामगढ़ शेखावाटी}: {23.92 73.95|27.250586 75.178671} != {23.92|27.2506} {73.95|75.1787}\n",
      "Point Venture Texas: 30.379444444444445 -97.9961111111111 != 30.3794 -97.9961\n",
      "{Phuket|Phuket Municipality|ภูเก็ต}: 7.888055555555556 98.3975 != 7.88806 98.3975\n",
      "Merauke: -8.466666666666667 140.33333333333334 != -8.46667 140.333\n",
      "{Nuwar|Sorong}: -0.8666666666666667 131.25 != -0.866667 131.25\n",
      "Huajuapan de León: 17.8 -97.76666666666667 != 17.8 -97.7667\n",
      "Karimama: 12.066666666666666 3.183333333333333 != 12.0667 3.18333\n",
      "南三陸町: 38.6813 141.4398 != 38.6813 141.44\n",
      "Berestechko: 50.35 25.116666666666667 != 50.35 25.1167\n",
      "Cooch Behar: {26.32419 89.45103|26.366666666666667 89.48333333333333} != {26.3242|26.3667} {89.451|89.4833}\n",
      "City of Littleton Colorado: 39.59972222222222 -105.01083333333334 != 39.5997 -105.011\n",
      "{Gorontalo City|Kota Gorontalo}: 0.5333333333333333 123.06666666666666 != 0.533333 123.067\n",
      "{Thành phố Việt Trì|Viet Tri}: 21.3 105.43333333333334 != 21.3 105.433\n",
      "{Tam Ky|Thành phố Tam Kỳ}: 15.566666666666666 108.48333333333333 != 15.5667 108.483\n",
      "{Salamanca|Xidoo Place of Tepetate}: {20.567 -101.2|20.57027777777778 -101.19722222222222} != {20.567|20.5703} {-101.2|-101.197}\n",
      "{Cam Pha|Thành phố Cẩm Phả}: 21.016666666666666 107.31666666666666 != 21.0167 107.317\n",
      "{Siem Reap|ក្រុងសៀមរាប}: 13.362222222222222 103.85972222222222 != 13.3622 103.86\n",
      "{Prey Veng|ក្រុងព្រៃវែង}: 11.483333333333333 105.31666666666666 != 11.4833 105.317\n",
      "{Kampong Chhnang|ក្រុងកំពង់ឆ្នាំង}: 12.25 104.66666666666667 != 12.25 104.667\n",
      "Mapimí: 25.833055555555557 -103.84777777777778 != 25.8331 -103.848\n",
      "{郡山|郡山市 · Kōriyama}: 37.4 140.38333333333333 != 37.4 140.383\n",
      "桐生市: 36.416666666666664 139.33333333333334 != 36.4167 139.333\n",
      "行田市: 36.13333333333333 139.45 != 36.1333 139.45\n",
      "下松市: 34.016666666666666 131.86666666666667 != 34.0167 131.867\n",
      "Dripping Springs Texas: {30.191944444444445 -98.08527777777778|30.191998 -98.085382} != {30.1919|30.192} {-98.0854|-98.0853}\n",
      "{Prymorsk|Приморськ}: 46.733333333333334 36.35 != 46.7333 36.35\n",
      "{Hlobyne|Глобине}: {49.36666666666667 33.266666666666666|49.38333333333333 33.28333333333333} != {49.3667|49.3833} {33.2667|33.2833}\n",
      "{Komsomolsk|Комсомольськ}: 49.016666666666666 33.666666666666664 != 49.0167 33.6667\n",
      "Hola Prystan (Гола Пристань): 46.516666666666666 32.516666666666666 != 46.5167 32.5167\n",
      "Tavriisk  (Таврійськ): 46.766666666666666 33.416666666666664 != 46.7667 33.4167\n",
      "Lodhran: 29.533333333333335 71.63333333333334 != 29.5333 71.6333\n",
      "洞爺湖町: 42.55 140.76666666666668 != 42.55 140.767\n",
      "Bərdə: 40.37444444444444 47.126666666666665 != 40.3744 47.1267\n",
      "San Sebastián del Oeste: {20.65 -104.583|20.65 -104.58305555555556} != 20.65 -104.583\n",
      "Gudalur: {9.31 77.2|9.68 77.27} != {9.31|9.68} {77.2|77.27}\n",
      "Dipalpur: {30.41 73.42|30.666666666666668 73.65} != {30.41|30.6667} {73.42|73.65}\n",
      "FanipolФаніпаль / Фаниполь: 53.75 27.333333333333332 != 53.75 27.3333\n",
      "{City of Von Ormy|Von Ormy Texas}: 29.285666666666668 -98.64733333333334 != 29.2857 -98.6473\n",
      "Aguachica: {8.3125 73.62694444444445|8.316666666666666 -73.63333333333334} != {8.3125|8.31667} {-73.6333|73.6269}\n",
      "Codazzi: {10.033333333333333 -73.23333333333333|10.033333333333333 -74.23333333333333} != 10.0333 {-74.2333|-73.2333}\n",
      "Chimichagua: 9.25 -73.81666666666666 != 9.25 -73.8167\n",
      "{Kadi|કડી}: {23.18 72.2|23.30088 72.33218} != {23.18|23.3009} {72.2|72.3322}\n",
      "{Puerto Armuelles|Rabo De Puerco}: 8.283333333333333 -82.86666666666666 != 8.28333 -82.8667\n",
      "{Mahis|مدينة ماحص}: 31.983333333333334 35.766666666666666 != 31.9833 35.7667\n",
      "Ipiaú: -14.136944444444444 -39.73388888888889 != -14.1369 -39.7339\n",
      "{Brugh Thuinne|Churchtown}: 52.27305555555556 -8.729444444444445 != 52.2731 -8.72944\n",
      "Hollis Hills: 40.73247777777778 -73.754225 != 40.7325 -73.7542\n",
      "{Faridpur|Faridpur Uttar Pradesh}: 28.208611 79.538056 != 28.2086 79.5381\n",
      "{Sinpo|신포|신포시}: 40.083333333333336 128.25 != 40.0833 128.25\n",
      "{Shu|Шу}: 43.598333333333336 73.76138888888889 != 43.5983 73.7614\n",
      "{Huichon|희천|희천시}: 40.1707 126.2761 != 40.1707 126.276\n",
      "Astoria Heights: 40.77388888888889 -73.90777777777778 != 40.7739 -73.9078\n",
      "{Chongju|정주|정주시}: 39.65 125.33333333333333 != 39.65 125.333\n",
      "Southampton: 50.89696 -1.40416 != 50.897 -1.40416\n",
      "Cusseta Alabama: 32.78472222222222 -85.30583333333334 != 32.7847 -85.3058\n",
      "Bhiwandi: 19.296664 73.063121 != 19.2967 73.0631\n",
      "{Kusong|구성|구성시}: 39.96666666666667 125.16666666666667 != 39.9667 125.167\n",
      "Meru: 24.029444444444444 85.45722222222223 != 24.0294 85.4572\n",
      "Eupora Mississippi: 33.541666666666664 -89.27222222222223 != 33.5417 -89.2722\n",
      "{City of Leeds|Leeds}: 53.79972222222222 -1.5491666666666668 != 53.7997 -1.54917\n",
      "Vadiveeswaram: 8.179444444444444 77.43888888888888 != 8.17944 77.4389\n",
      "Saclepea Liberia: 7.116666666666666 -8.833333333333334 != 7.11667 -8.83333\n",
      "Borovo Naselje: 45.38333333333333 18.95 != 45.3833 18.95\n",
      "Pihuamo: {18.95 -103.16666666666667|18.95 -103.167} != 18.95 -103.167\n",
      "Bay Terrace: 40.78277777777778 -73.78 != 40.7828 -73.78\n",
      "Beechhurst: 40.791666666666664 -73.80055555555556 != 40.7917 -73.8006\n",
      "{Satana|सटाणा}: {20.5797 74.216|20.593611111111112 74.2} != {20.5797|20.5936} {74.2|74.216}\n",
      "Prabumulih: -3.432777777777778 104.23555555555555 != -3.43278 104.236\n",
      "{Tongchuan|铜川|铜川市}: 35.06666666666667 109.08333333333333 != 35.0667 109.083\n",
      "{Adelong|Wynyard}: {-35.3 148.05|35.3 148.05} != {-35.3|35.3} 148.05\n",
      "{Shahpur|शाहपुर}: {25.58 84.45|25.6 84.4} != {25.58|25.6} {84.4|84.45}\n",
      "City of Maricá: -22.91888888888889 -42.818888888888885 != -22.9189 -42.8189\n",
      "{Liupanshui|六盘水|六盘水市}: 26.594444444444445 104.83333333333333 != 26.5944 104.833\n",
      "Burnie: {-41.06666666666667 145.88333333333333|41.06361111111111 145.87527777777777} != {-41.0667|41.0636} {145.875|145.883}\n",
      "{Xingcheng|兴城|兴城市}: {40.4975 120.8013888888889|40.61666666666667 120.73333333333333} != {40.4975|40.6167} {120.733|120.801}\n",
      "Mezquitic: {22.65 -103.58277777777778|22.65 -103.583} != 22.65 -103.583\n",
      "{Skënderaj|Srbica|Србица}: {42.733333333333334 20.783333333333335|42.74666666666667 20.788611111111113} != {42.7333|42.7467} {20.7833|20.7886}\n",
      "{Dragash|Dragaš|Dragaš (Драгаш)|Sharri}: {42.05 20.65|42.06666666666667 20.65} != {42.05|42.0667} 20.65\n",
      "{Deori|देवरी}: 21.066666666666666 80.36666666666666 != 21.0667 80.3667\n",
      "{Shulan|舒兰|舒兰市}: 44.416666666666664 126.95 != 44.4167 126.95\n",
      "Logansport Indiana: {40.753478 -86.360485|40.75361111111111 -86.36055555555555} != {40.7535|40.7536} {-86.3606|-86.3605}\n",
      "Varsity View: {52.12416666666667 -106.64138888888888|52.12481388888889 -106.63834444444444} != {52.1242|52.1248} {-106.641|-106.638}\n",
      "Belterra Pará: {-2.6358333333333333 -54.93694444444444|-2.6374 -54.9361} != {-2.6374|-2.63583} {-54.9369|-54.9361}\n",
      "Tiosa: 21.086111111111112 78.06388888888888 != 21.0861 78.0639\n",
      "Eastview: 52.09583333333333 -106.6138888888889 != 52.0958 -106.614\n",
      "Rouina: 36.263888888888886 2.160833333333333 != 36.2639 2.16083\n",
      "Willemstad: 51.691944444444445 4.437777777777778 != 51.6919 4.43778\n",
      "Akole: {19.54066111111111 74.00609444444444|19.54083333333333 74.0075} != {19.5407|19.5408} {74.0061|74.0075}\n",
      "Beyləqan: 39.775555555555556 47.618611111111115 != 39.7756 47.6186\n",
      "Glen Oaks: 40.747808 -73.71268 != 40.7478 -73.7127\n",
      "Black River Falls Wisconsin: 44.297222222222224 -90.84916666666666 != 44.2972 -90.8492\n",
      "Pé de Serra: -11.83388888888889 -39.61277777777778 != -11.8339 -39.6128\n",
      "Bouaflé: 6.983333333333333 -5.75 != 6.98333 -5.75\n",
      "Calvert City Kentucky: 37.033055555555556 -88.34944444444444 != 37.0331 -88.3494\n",
      "Tekkali: {18.6167 83.2333|18.6167 84.2333} != 18.6167 {83.2333|84.2333}\n",
      "{Wada|वाडा}: {19.39 73.08|19.65 73.13} != {19.39|19.65} {73.08|73.13}\n",
      "{Nalconagar|ନାଲକୋନଗର}: {20.849 85.154|20.849266666666665 85.15415833333333} != {20.849|20.8493} {85.154|85.1542}\n",
      "Chuy: {-33.68333333333333 -53.45|-33.75096944444444 -53.39469444444445} != {-33.751|-33.6833} {-53.45|-53.3947}\n",
      "{City of Catbalogan|Siyudad han Catbalogan}: 11.783333333333333 124.88333333333334 != 11.7833 124.883\n",
      "{Kurdish: Xurmatû|Turkish: Tuz hurma|Tuz Khormato}: {34.87722222222222 44.638333333333335|34.88333333333333 44.63333333333333} != {34.8772|34.8833} {44.6333|44.6383}\n",
      "Villa de Álvarez: {19.25 -103.73333333333333|19.267222222222223 -103.73777777777778} != {19.25|19.2672} {-103.738|-103.733}\n",
      "Amsterdam: 52.37305555555555 4.892222222222222 != 52.3731 4.89222\n",
      "Ames: 42.03472222222222 -93.62 != 42.0347 -93.62\n",
      "{Acapulco|Acapulco de Juárez}: 16.863611111111112 -99.8825 != 16.8636 -99.8825\n",
      "Astoria Oregon: 46.18888888888889 -123.82111111111111 != 46.1889 -123.821\n",
      "{Abadan|آبادان}: 30.339166666666667 48.30416666666667 != 30.3392 48.3042\n",
      "Albion Michigan: 42.24666666666667 -84.75333333333333 != 42.2467 -84.7533\n",
      "{Alicante|Alicante/Alacant}: 38.34527777777778 -0.48305555555555557 != 38.3453 -0.483056\n",
      "{Abadeh|آباده}: 31.160833333333333 52.650555555555556 != 31.1608 52.6506\n",
      "Aberdeen South Dakota: 45.46472222222222 -98.48638888888888 != 45.4647 -98.4864\n",
      "City of Alameda: 37.75611111111111 -122.27444444444444 != 37.7561 -122.274\n",
      "Aveiro: 40.63333333333333 -8.65 != 40.6333 -8.65\n",
      "NULL: 50.73399166666667 7.099813888888889 != 50.734 7.09981\n",
      "{Buffalo New York|City of Buffalo}: 42.90472222222222 -78.84944444444444 != 42.9047 -78.8494\n",
      "Cambridge Massachusetts: 42.37361111111111 -71.11055555555555 != 42.3736 -71.1106\n",
      "{City of Columbus|Columbus Ohio}: 39.983333333333334 -82.98333333333333 != 39.9833 -82.9833\n",
      "{City of Cleveland|Cleveland}: 41.48222222222222 -81.66972222222222 != 41.4822 -81.6697\n",
      "{Cologne|Köln}: 50.95 6.966666666666667 != 50.95 6.96667\n",
      "City of Colorado Springs: 38.86333333333333 -104.79194444444444 != 38.8633 -104.792\n",
      "{Autonomous City of Ceuta|Ceuta}: 35.888333333333335 -5.315555555555555 != 35.8883 -5.31556\n",
      "Carthage: 36.85805555555555 10.330833333333333 != 36.8581 10.3308\n",
      "Chicago: 41.88194444444444 -87.62777777777778 != 41.8819 -87.6278\n",
      "{Carson City Nevada|Consolidated Municipality of Carson City}: 39.160833333333336 -119.7538888888889 != 39.1608 -119.754\n",
      "City of Dayton: 39.75944444444445 -84.19166666666666 != 39.7594 -84.1917\n",
      "{City of Dar es Salaam|Dar es Salaam}: -6.8 39.28333333333333 != -6.8 39.2833\n",
      "{City and County of Denver|Denver}: 39.73916666666667 -104.98472222222222 != 39.7392 -104.985\n",
      "Davenport Iowa: 41.543055555555554 -90.59083333333334 != 41.5431 -90.5908\n",
      "{City of Detroit|Detroit}: 42.33138888888889 -83.04583333333333 != 42.3314 -83.0458\n",
      "Eindhoven: 51.43333333333333 5.466666666666667 != 51.4333 5.46667\n",
      "Erfurt: 50.983333333333334 11.033333333333333 != 50.9833 11.0333\n",
      "{(also colloq. Embra and Edinburrie)|City of Edinburgh|Scots: Edinburgh|Scottish Gaelic: Dùn Èideann}: 55.95305555555556 -3.188888888888889 != 55.9531 -3.18889\n",
      "City of Eugene: 44.051944444444445 -123.08666666666667 != 44.0519 -123.087\n"
     ]
    },
    {
     "ename": "IndexError",
     "evalue": "list index out of range",
     "output_type": "error",
     "traceback": [
      "\u001b[0;31m---------------------------------------------------------------------------\u001b[0m",
      "\u001b[0;31mIndexError\u001b[0m                                Traceback (most recent call last)",
      "\u001b[0;32m<ipython-input-44-bad572748345>\u001b[0m in \u001b[0;36m<module>\u001b[0;34m()\u001b[0m\n\u001b[0;32m----> 1\u001b[0;31m \u001b[0mresult\u001b[0m \u001b[0;34m=\u001b[0m \u001b[0mprocess_file\u001b[0m\u001b[0;34m(\u001b[0m\u001b[0mCITIES\u001b[0m\u001b[0;34m)\u001b[0m\u001b[0;34m\u001b[0m\u001b[0m\n\u001b[0m\u001b[1;32m      2\u001b[0m \u001b[0mresult\u001b[0m\u001b[0;34m\u001b[0m\u001b[0m\n",
      "\u001b[0;32m<ipython-input-40-25fd84f40454>\u001b[0m in \u001b[0;36mprocess_file\u001b[0;34m(filename)\u001b[0m\n\u001b[1;32m     10\u001b[0m             \u001b[0;31m# calling your function to check the location\u001b[0m\u001b[0;34m\u001b[0m\u001b[0;34m\u001b[0m\u001b[0m\n\u001b[1;32m     11\u001b[0m             result = check_loc(line[\"point\"], line[\"wgs84_pos#lat\"],\n\u001b[0;32m---> 12\u001b[0;31m                                line[\"wgs84_pos#long\"])\n\u001b[0m\u001b[1;32m     13\u001b[0m             \u001b[0;32mif\u001b[0m \u001b[0;32mnot\u001b[0m \u001b[0mresult\u001b[0m\u001b[0;34m:\u001b[0m\u001b[0;34m\u001b[0m\u001b[0m\n\u001b[1;32m     14\u001b[0m                 print (\"{}: {} != {} {}\".format(line[\"name\"], line[\"point\"],\n",
      "\u001b[0;32m<ipython-input-36-82c87c41cefe>\u001b[0m in \u001b[0;36mcheck_loc\u001b[0;34m(point, lat, longi)\u001b[0m\n\u001b[1;32m      3\u001b[0m     \u001b[0mpointList\u001b[0m \u001b[0;34m=\u001b[0m \u001b[0mpoint\u001b[0m\u001b[0;34m.\u001b[0m\u001b[0msplit\u001b[0m\u001b[0;34m(\u001b[0m\u001b[0;34m' '\u001b[0m\u001b[0;34m)\u001b[0m\u001b[0;34m\u001b[0m\u001b[0m\n\u001b[1;32m      4\u001b[0m     \u001b[0;32mif\u001b[0m \u001b[0mlat\u001b[0m \u001b[0;34m==\u001b[0m \u001b[0mpointList\u001b[0m\u001b[0;34m[\u001b[0m\u001b[0;36m0\u001b[0m\u001b[0;34m]\u001b[0m\u001b[0;34m:\u001b[0m\u001b[0;34m\u001b[0m\u001b[0m\n\u001b[0;32m----> 5\u001b[0;31m         \u001b[0;32mreturn\u001b[0m \u001b[0mlongi\u001b[0m \u001b[0;34m==\u001b[0m \u001b[0mpointList\u001b[0m\u001b[0;34m[\u001b[0m\u001b[0;36m1\u001b[0m\u001b[0;34m]\u001b[0m\u001b[0;34m\u001b[0m\u001b[0m\n\u001b[0m\u001b[1;32m      6\u001b[0m     \u001b[0;32melse\u001b[0m\u001b[0;34m:\u001b[0m\u001b[0;34m\u001b[0m\u001b[0m\n\u001b[1;32m      7\u001b[0m         \u001b[0;32mreturn\u001b[0m \u001b[0;32mFalse\u001b[0m\u001b[0;34m\u001b[0m\u001b[0m\n",
      "\u001b[0;31mIndexError\u001b[0m: list index out of range"
     ]
    }
   ],
   "source": [
    "result = process_file(CITIES)\n",
    "result"
   ]
  },
  {
   "cell_type": "code",
   "execution_count": null,
   "metadata": {
    "collapsed": true
   },
   "outputs": [],
   "source": []
  }
 ],
 "metadata": {
  "kernelspec": {
   "display_name": "Python 3",
   "language": "python",
   "name": "python3"
  },
  "language_info": {
   "codemirror_mode": {
    "name": "ipython",
    "version": 3
   },
   "file_extension": ".py",
   "mimetype": "text/x-python",
   "name": "python",
   "nbconvert_exporter": "python",
   "pygments_lexer": "ipython3",
   "version": "3.6.3"
  }
 },
 "nbformat": 4,
 "nbformat_minor": 2
}
