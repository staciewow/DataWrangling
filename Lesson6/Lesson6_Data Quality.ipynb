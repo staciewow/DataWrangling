{
 "cells": [
  {
   "cell_type": "markdown",
   "metadata": {},
   "source": [
    "### Auditing Data Quality "
   ]
  },
  {
   "cell_type": "code",
   "execution_count": 1,
   "metadata": {
    "collapsed": true
   },
   "outputs": [],
   "source": [
    "import codecs\n",
    "import csv\n",
    "import json\n",
    "import pprint\n",
    "\n",
    "CITIES = 'cities.csv'"
   ]
  },
  {
   "cell_type": "code",
   "execution_count": 2,
   "metadata": {
    "collapsed": true
   },
   "outputs": [],
   "source": [
    "FIELDS = [\"name\", \"timeZone_label\", \"utcOffset\", \"homepage\", \"governmentType_label\",\n",
    "          \"isPartOf_label\", \"areaCode\", \"populationTotal\", \"elevation\",\n",
    "          \"maximumElevation\", \"minimumElevation\", \"populationDensity\",\n",
    "          \"wgs84_pos#lat\", \"wgs84_pos#long\", \"areaLand\", \"areaMetro\", \"areaUrban\"]"
   ]
  },
  {
   "cell_type": "code",
   "execution_count": 5,
   "metadata": {
    "collapsed": true
   },
   "outputs": [],
   "source": [
    "def audit_file(filename, fields):\n",
    "    fieldtypes = {}\n",
    "    for field in fields:\n",
    "        fieldtypes[field] = set([])\n",
    "\n",
    "    # YOUR CODE HERE\n",
    "    with open(filename, 'r') as f:\n",
    "        reader = csv.DictReader(f)\n",
    "        \n",
    "        #skipping the extra metadata\n",
    "        for i in range(3):\n",
    "            next(reader)\n",
    "\n",
    "        # processing file\n",
    "        for row in reader:\n",
    "            for field in fields:\n",
    "                value = row[field]\n",
    "                if value == 'NULL' or value == '':\n",
    "                    fieldtypes[field].add(type(None))\n",
    "                elif value.startswith('{'):\n",
    "                    fieldtypes[field].add(list)\n",
    "                else:\n",
    "                    try:\n",
    "                        value = int(value)\n",
    "                        fieldtypes[field].add(int)\n",
    "                    except ValueError:\n",
    "                        try:\n",
    "                            value = float(value)\n",
    "                            fieldtypes[field].add(float)\n",
    "                        except ValueError:\n",
    "                            fieldtypes[field].add(str)\n",
    "\n",
    "    return fieldtypes"
   ]
  },
  {
   "cell_type": "code",
   "execution_count": 6,
   "metadata": {},
   "outputs": [],
   "source": [
    "fieldtypes = audit_file(CITIES, FIELDS)"
   ]
  },
  {
   "cell_type": "code",
   "execution_count": 7,
   "metadata": {},
   "outputs": [
    {
     "data": {
      "text/plain": [
       "{'areaCode': {list, NoneType, str, int},\n",
       " 'areaLand': {float, NoneType, list},\n",
       " 'areaMetro': {float, NoneType, list},\n",
       " 'areaUrban': {float, NoneType, list},\n",
       " 'elevation': {float, NoneType, list},\n",
       " 'governmentType_label': {list, NoneType, str},\n",
       " 'homepage': {list, NoneType, str},\n",
       " 'isPartOf_label': {list, NoneType, str},\n",
       " 'maximumElevation': {float, NoneType, list},\n",
       " 'minimumElevation': {float, NoneType},\n",
       " 'name': {list, NoneType, str},\n",
       " 'populationDensity': {float, NoneType, list},\n",
       " 'populationTotal': {list, NoneType, int},\n",
       " 'timeZone_label': {list, NoneType, str},\n",
       " 'utcOffset': {str, int, float, list, NoneType},\n",
       " 'wgs84_pos#lat': {float, list, NoneType},\n",
       " 'wgs84_pos#long': {float, list, NoneType}}"
      ]
     },
     "execution_count": 7,
     "metadata": {},
     "output_type": "execute_result"
    }
   ],
   "source": [
    "fieldtypes"
   ]
  },
  {
   "cell_type": "markdown",
   "metadata": {},
   "source": [
    "### Fixing the Area "
   ]
  },
  {
   "cell_type": "code",
   "execution_count": 24,
   "metadata": {},
   "outputs": [],
   "source": [
    "def fix_area(area):\n",
    "\n",
    "    if area == \"NULL\":\n",
    "        return None\n",
    "    elif area[0] == \"{\":\n",
    "        l = area.strip(\"{}\").split(\"|\")\n",
    "        # Get string without 0's\n",
    "        l1, l2 = str(l[0]).replace(\"e+\", \"\").replace(\"0\", \"\"), str(l[1]).replace(\"e+\", \"\").replace(\"0\", \"\")\n",
    "        # Compare length of non-zero \"significant\" digits\n",
    "        # Then return original which has more as a float\n",
    "        if len(l1) > len(l2):\n",
    "            return float(l[0])\n",
    "        else:\n",
    "            return float(l[1])\n",
    "    return float(area)"
   ]
  },
  {
   "cell_type": "code",
   "execution_count": 25,
   "metadata": {
    "collapsed": true
   },
   "outputs": [],
   "source": [
    "def process_file(filename):\n",
    "    # CHANGES TO THIS FUNCTION WILL BE IGNORED WHEN YOU SUBMIT THE EXERCISE\n",
    "    data = []\n",
    "\n",
    "    with open(filename, \"r\") as f:\n",
    "        reader = csv.DictReader(f)\n",
    "\n",
    "        #skipping the extra matadata\n",
    "        for i in range(3):\n",
    "            l = next(reader)\n",
    "\n",
    "        # processing file\n",
    "        for line in reader:\n",
    "            # calling your function to fix the area value\n",
    "            if \"areaLand\" in line:\n",
    "                line[\"areaLand\"] = fix_area(line[\"areaLand\"])\n",
    "            data.append(line)\n",
    "\n",
    "    return data"
   ]
  },
  {
   "cell_type": "code",
   "execution_count": 27,
   "metadata": {},
   "outputs": [],
   "source": [
    "result = process_file(CITIES)"
   ]
  },
  {
   "cell_type": "markdown",
   "metadata": {},
   "source": [
    "### Fixing Names"
   ]
  },
  {
   "cell_type": "code",
   "execution_count": 32,
   "metadata": {
    "collapsed": true
   },
   "outputs": [],
   "source": [
    "def fix_name(name):\n",
    "\n",
    "    # YOUR CODE HERE\n",
    "    if name.startswith('{'):\n",
    "        nameList = name.replace('{','').replace('}','').split('|')\n",
    "        return nameList\n",
    "    elif name == 'NULL':\n",
    "        return []\n",
    "    else:\n",
    "        return [name]"
   ]
  },
  {
   "cell_type": "code",
   "execution_count": 33,
   "metadata": {
    "collapsed": true
   },
   "outputs": [],
   "source": [
    "def process_file(filename):\n",
    "    data = []\n",
    "    with open(filename, \"r\") as f:\n",
    "        reader = csv.DictReader(f)\n",
    "\n",
    "        #skipping the extra metadata\n",
    "        for i in range(3):\n",
    "            l = next(reader)\n",
    "\n",
    "        # processing file\n",
    "        for line in reader:\n",
    "            # calling your function to fix the area value\n",
    "            if \"name\" in line:\n",
    "                line[\"name\"] = fix_name(line[\"name\"])\n",
    "            data.append(line)\n",
    "    return data"
   ]
  },
  {
   "cell_type": "code",
   "execution_count": 34,
   "metadata": {},
   "outputs": [
    {
     "name": "stderr",
     "output_type": "stream",
     "text": [
      "IOPub data rate exceeded.\n",
      "The notebook server will temporarily stop sending output\n",
      "to the client in order to avoid crashing it.\n",
      "To change this limit, set the config variable\n",
      "`--NotebookApp.iopub_data_rate_limit`.\n"
     ]
    }
   ],
   "source": [
    "result = process_file(CITIES)"
   ]
  },
  {
   "cell_type": "code",
   "execution_count": 35,
   "metadata": {},
   "outputs": [
    {
     "name": "stdout",
     "output_type": "stream",
     "text": [
      "'Kud'\n",
      "'Kuju'\n",
      "'Kumbhraj'\n",
      "'Kumhari'\n",
      "'{Kundagola|Kundgol ಕುಂದಗೋಳ}'\n",
      "'Kunigal'\n",
      "'Kunzer'\n",
      "'{Kurduvadi|कुर्डुवाडी}'\n",
      "'Kurgunta'\n",
      "'Kurinjipadi'\n",
      "'Kurud'\n",
      "'Kushtagi'\n",
      "'{Ladnun|लाडनूँ}'\n",
      "'{Lahar|लहार}'\n",
      "'Laharpur'\n",
      "'Lakheri'\n",
      "'Lakhipur'\n",
      "'{Laksar|लक्सर}'\n",
      "'Lalkuan'\n",
      "'Lalsot'\n"
     ]
    }
   ],
   "source": [
    "for n in range(20):\n",
    "    pprint.pprint(result[n][\"name\"])"
   ]
  },
  {
   "cell_type": "markdown",
   "metadata": {},
   "source": [
    "### Crossfield Auditing "
   ]
  },
  {
   "cell_type": "code",
   "execution_count": null,
   "metadata": {
    "collapsed": true
   },
   "outputs": [],
   "source": []
  }
 ],
 "metadata": {
  "kernelspec": {
   "display_name": "Python 3",
   "language": "python",
   "name": "python3"
  },
  "language_info": {
   "codemirror_mode": {
    "name": "ipython",
    "version": 3
   },
   "file_extension": ".py",
   "mimetype": "text/x-python",
   "name": "python",
   "nbconvert_exporter": "python",
   "pygments_lexer": "ipython3",
   "version": "3.6.3"
  }
 },
 "nbformat": 4,
 "nbformat_minor": 2
}
