{
 "cells": [
  {
   "cell_type": "markdown",
   "metadata": {
    "collapsed": true
   },
   "source": [
    "### PyMongo"
   ]
  },
  {
   "cell_type": "code",
   "execution_count": 1,
   "metadata": {
    "collapsed": true
   },
   "outputs": [],
   "source": [
    "from pymongo import MongoClient\n",
    "import pprint\n",
    "\n",
    "client = MongoClient('mongodb://localhost:27017/')"
   ]
  },
  {
   "cell_type": "code",
   "execution_count": 2,
   "metadata": {
    "collapsed": true
   },
   "outputs": [],
   "source": [
    "tesla_s = {\n",
    "    \"manufacturer\": \"Tesla Motors\",\n",
    "    \"class\": \"full-size\",\n",
    "    \"body style\": \"5-door liftback\",\n",
    "    \"production\": [2012, 2013],\n",
    "    \"model years\": [2013],\n",
    "    \"layout\": [\"Rear-motor\", \"rear-wheel drive\"],\n",
    "    \"designer\": {\n",
    "        \"firstname\": \"Franz\",\n",
    "        \"surname\": \"von Holzhausen\"\n",
    "    },\n",
    "    \"assembly\": [\n",
    "        {\n",
    "            \"country\": \"United States\",\n",
    "            \"city\": \"Fremont\",\n",
    "            \"state\": \"California\"\n",
    "        },\n",
    "        {\n",
    "            \"country\": \"The Netherlands\",\n",
    "            \"city\": \"Tilburg\"\n",
    "        }\n",
    "    ]\n",
    "}"
   ]
  },
  {
   "cell_type": "code",
   "execution_count": 3,
   "metadata": {},
   "outputs": [
    {
     "name": "stderr",
     "output_type": "stream",
     "text": [
      "/Users/shuixin/anaconda3/lib/python3.6/site-packages/ipykernel_launcher.py:2: DeprecationWarning: insert is deprecated. Use insert_one or insert_many instead.\n",
      "  \n"
     ]
    },
    {
     "data": {
      "text/plain": [
       "ObjectId('5b0eb14aa24d6834d48a02e8')"
      ]
     },
     "execution_count": 3,
     "metadata": {},
     "output_type": "execute_result"
    }
   ],
   "source": [
    "db = client.examples\n",
    "db.autos.insert(tesla_s) ##store records"
   ]
  },
  {
   "cell_type": "code",
   "execution_count": 4,
   "metadata": {},
   "outputs": [
    {
     "name": "stdout",
     "output_type": "stream",
     "text": [
      "{'_id': ObjectId('5b0eb14aa24d6834d48a02e8'),\n",
      " 'assembly': [{'city': 'Fremont',\n",
      "               'country': 'United States',\n",
      "               'state': 'California'},\n",
      "              {'city': 'Tilburg', 'country': 'The Netherlands'}],\n",
      " 'body style': '5-door liftback',\n",
      " 'class': 'full-size',\n",
      " 'designer': {'firstname': 'Franz', 'surname': 'von Holzhausen'},\n",
      " 'layout': ['Rear-motor', 'rear-wheel drive'],\n",
      " 'manufacturer': 'Tesla Motors',\n",
      " 'model years': [2013],\n",
      " 'production': [2012, 2013]}\n"
     ]
    }
   ],
   "source": [
    "for a in db.autos.find():\n",
    "    pprint.pprint(a)"
   ]
  },
  {
   "cell_type": "code",
   "execution_count": null,
   "metadata": {
    "collapsed": true
   },
   "outputs": [],
   "source": []
  }
 ],
 "metadata": {
  "kernelspec": {
   "display_name": "Python 3",
   "language": "python",
   "name": "python3"
  },
  "language_info": {
   "codemirror_mode": {
    "name": "ipython",
    "version": 3
   },
   "file_extension": ".py",
   "mimetype": "text/x-python",
   "name": "python",
   "nbconvert_exporter": "python",
   "pygments_lexer": "ipython3",
   "version": "3.6.3"
  }
 },
 "nbformat": 4,
 "nbformat_minor": 2
}
