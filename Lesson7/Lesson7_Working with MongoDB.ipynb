{
 "cells": [
  {
   "cell_type": "markdown",
   "metadata": {
    "collapsed": true
   },
   "source": [
    "### PyMongo"
   ]
  },
  {
   "cell_type": "code",
   "execution_count": 8,
   "metadata": {
    "collapsed": true
   },
   "outputs": [],
   "source": [
    "from pymongo import MongoClient\n",
    "import pprint\n",
    "\n",
    "client = MongoClient('mongodb://localhost:27017/')"
   ]
  },
  {
   "cell_type": "code",
   "execution_count": 9,
   "metadata": {
    "collapsed": true
   },
   "outputs": [],
   "source": [
    "tesla_s = {\n",
    "    \"manufacturer\": \"Tesla Motors\",\n",
    "    \"class\": \"full-size\",\n",
    "    \"body style\": \"5-door liftback\",\n",
    "    \"production\": [2012, 2013],\n",
    "    \"model years\": [2013],\n",
    "    \"layout\": [\"Rear-motor\", \"rear-wheel drive\"],\n",
    "    \"designer\": {\n",
    "        \"firstname\": \"Franz\",\n",
    "        \"surname\": \"von Holzhausen\"\n",
    "    },\n",
    "    \"assembly\": [\n",
    "        {\n",
    "            \"country\": \"United States\",\n",
    "            \"city\": \"Fremont\",\n",
    "            \"state\": \"California\"\n",
    "        },\n",
    "        {\n",
    "            \"country\": \"The Netherlands\",\n",
    "            \"city\": \"Tilburg\"\n",
    "        }\n",
    "    ]\n",
    "}"
   ]
  },
  {
   "cell_type": "code",
   "execution_count": 10,
   "metadata": {},
   "outputs": [
    {
     "name": "stderr",
     "output_type": "stream",
     "text": [
      "/Users/shuixin/anaconda3/lib/python3.6/site-packages/ipykernel_launcher.py:2: DeprecationWarning: insert is deprecated. Use insert_one or insert_many instead.\n",
      "  \n"
     ]
    },
    {
     "data": {
      "text/plain": [
       "ObjectId('5b0eb912a24d6834d48a02ea')"
      ]
     },
     "execution_count": 10,
     "metadata": {},
     "output_type": "execute_result"
    }
   ],
   "source": [
    "db = client.examples\n",
    "db.autos.insert(tesla_s) ##store records"
   ]
  },
  {
   "cell_type": "code",
   "execution_count": 11,
   "metadata": {},
   "outputs": [
    {
     "name": "stdout",
     "output_type": "stream",
     "text": [
      "{'_id': ObjectId('5b0eb14aa24d6834d48a02e8'),\n",
      " 'assembly': [{'city': 'Fremont',\n",
      "               'country': 'United States',\n",
      "               'state': 'California'},\n",
      "              {'city': 'Tilburg', 'country': 'The Netherlands'}],\n",
      " 'body style': '5-door liftback',\n",
      " 'class': 'full-size',\n",
      " 'designer': {'firstname': 'Franz', 'surname': 'von Holzhausen'},\n",
      " 'layout': ['Rear-motor', 'rear-wheel drive'],\n",
      " 'manufacturer': 'Tesla Motors',\n",
      " 'model years': [2013],\n",
      " 'production': [2012, 2013]}\n",
      "{'_id': ObjectId('5b0eb912a24d6834d48a02ea'),\n",
      " 'assembly': [{'city': 'Fremont',\n",
      "               'country': 'United States',\n",
      "               'state': 'California'},\n",
      "              {'city': 'Tilburg', 'country': 'The Netherlands'}],\n",
      " 'body style': '5-door liftback',\n",
      " 'class': 'full-size',\n",
      " 'designer': {'firstname': 'Franz', 'surname': 'von Holzhausen'},\n",
      " 'layout': ['Rear-motor', 'rear-wheel drive'],\n",
      " 'manufacturer': 'Tesla Motors',\n",
      " 'model years': [2013],\n",
      " 'production': [2012, 2013]}\n"
     ]
    }
   ],
   "source": [
    "for a in db.autos.find():\n",
    "    pprint.pprint(a)"
   ]
  },
  {
   "cell_type": "code",
   "execution_count": 16,
   "metadata": {
    "collapsed": true
   },
   "outputs": [],
   "source": [
    "def find():\n",
    "    autos = db.autos.find({\"manufacturer\": \"Toyota\"})\n",
    "    for a in autos:\n",
    "        pprint.pprint(a)\n",
    "        \n",
    "find()"
   ]
  },
  {
   "cell_type": "markdown",
   "metadata": {},
   "source": [
    "#### Quiz: Finding Porsche"
   ]
  },
  {
   "cell_type": "code",
   "execution_count": 19,
   "metadata": {
    "collapsed": true
   },
   "outputs": [],
   "source": [
    "def porsche_query():\n",
    "    # Please fill in the query to find all autos manuafactured by Porsche.\n",
    "    query = {\"manufacturer\": \"Porsche\"}\n",
    "    return query"
   ]
  },
  {
   "cell_type": "code",
   "execution_count": 20,
   "metadata": {
    "collapsed": true
   },
   "outputs": [],
   "source": [
    "def get_db(db_name):\n",
    "    # For local use\n",
    "    from pymongo import MongoClient\n",
    "    client = MongoClient('localhost:27017')\n",
    "    db = client[db_name]\n",
    "    return db\n",
    "\n",
    "def find_porsche(db, query):\n",
    "    # For local use\n",
    "    return db.autos.find(query)"
   ]
  },
  {
   "cell_type": "code",
   "execution_count": 24,
   "metadata": {
    "collapsed": true
   },
   "outputs": [],
   "source": [
    "db = get_db('examples')\n",
    "query = porsche_query()\n",
    "results = find_porsche(db, query)"
   ]
  },
  {
   "cell_type": "code",
   "execution_count": 25,
   "metadata": {},
   "outputs": [],
   "source": [
    "for car in results[:3]:\n",
    "        pprint.pprint(car)"
   ]
  },
  {
   "cell_type": "markdown",
   "metadata": {},
   "source": [
    "### Multiple Field Queries"
   ]
  },
  {
   "cell_type": "code",
   "execution_count": 29,
   "metadata": {},
   "outputs": [],
   "source": [
    "client = MongoClient(\"mongodb://localhost:27017\")\n",
    "db = client.examples"
   ]
  },
  {
   "cell_type": "code",
   "execution_count": 33,
   "metadata": {},
   "outputs": [],
   "source": [
    "def find():\n",
    "    query = db.autos.find({\"manufacturer\": \"Toyota\",\n",
    "                          \"class\": \"mid-size car\"})\n",
    "    projection = {\"_id\": 0, \"name\": 1}\n",
    "    autos = db.autos.find(query, projection)\n",
    "    \n",
    "    for a in autos:\n",
    "        pprint.pprint(a)\n",
    "        "
   ]
  },
  {
   "cell_type": "markdown",
   "metadata": {},
   "source": [
    "### Inserting data into collections"
   ]
  },
  {
   "cell_type": "code",
   "execution_count": 1,
   "metadata": {},
   "outputs": [],
   "source": [
    "from autos import process_file"
   ]
  },
  {
   "cell_type": "code",
   "execution_count": 2,
   "metadata": {
    "collapsed": true
   },
   "outputs": [],
   "source": [
    "def insert_autos(infile, db):\n",
    "    data = process_file(infile)\n",
    "    for a in data:\n",
    "        db.autos.insert(a)"
   ]
  },
  {
   "cell_type": "code",
   "execution_count": 5,
   "metadata": {},
   "outputs": [
    {
     "name": "stdout",
     "output_type": "stream",
     "text": [
      "{'_id': ObjectId('5b0eb14aa24d6834d48a02e8'), 'manufacturer': 'Tesla Motors', 'class': 'full-size', 'body style': '5-door liftback', 'production': [2012, 2013], 'model years': [2013], 'layout': ['Rear-motor', 'rear-wheel drive'], 'designer': {'firstname': 'Franz', 'surname': 'von Holzhausen'}, 'assembly': [{'country': 'United States', 'city': 'Fremont', 'state': 'California'}, {'country': 'The Netherlands', 'city': 'Tilburg'}]}\n"
     ]
    },
    {
     "name": "stderr",
     "output_type": "stream",
     "text": [
      "/Users/shuixin/anaconda3/lib/python3.6/site-packages/ipykernel_launcher.py:4: DeprecationWarning: insert is deprecated. Use insert_one or insert_many instead.\n",
      "  after removing the cwd from sys.path.\n"
     ]
    }
   ],
   "source": [
    "if __name__ == \"__main__\":\n",
    "    # Code here is for local use on your own computer.\n",
    "    from pymongo import MongoClient\n",
    "    client = MongoClient(\"mongodb://localhost:27017\")\n",
    "    db = client.examples\n",
    "\n",
    "    insert_autos('small_autos.csv', db)\n",
    "    print (db.autos.find_one())"
   ]
  },
  {
   "cell_type": "markdown",
   "metadata": {},
   "source": [
    "### Range Queries"
   ]
  },
  {
   "cell_type": "code",
   "execution_count": null,
   "metadata": {
    "collapsed": true
   },
   "outputs": [],
   "source": [
    "#for example\n",
    "def find():\n",
    "    \n",
    "    query = {\"population\": {\"$gt\": 250000},\n",
    "            \"foundingDate\": {\"$gte\": datetime(1837, 1, 1),\n",
    "                            \"lte\": datetime(1827, 12, 31)}}\n",
    "    cities = db.cities.find(query)\n",
    "    \n",
    "    num_cities = 0\n",
    "    for c in cities:\n",
    "        pprint.pprint(c)\n",
    "        num_cities += 1\n",
    "        \n",
    "    print(\"\\n Number of cities matching: %d\\n\" % num_cities)"
   ]
  },
  {
   "cell_type": "code",
   "execution_count": null,
   "metadata": {
    "collapsed": true
   },
   "outputs": [],
   "source": [
    "#another example: $in statement\n",
    "def in_query():\n",
    "    # Modify the below line with your query; try to use the $in operator.\n",
    "    query = {\"assembly\": {\"$in\": [\"Germany\", \"United Kingdom\", \"Japan\"]},\n",
    "        \"manufacturer\": \"Ford Motor Company\"\n",
    "    }\n",
    "    \n",
    "    return query"
   ]
  },
  {
   "cell_type": "markdown",
   "metadata": {},
   "source": [
    "### Updates"
   ]
  },
  {
   "cell_type": "code",
   "execution_count": null,
   "metadata": {
    "collapsed": true
   },
   "outputs": [],
   "source": [
    "#For example:\n",
    "from pymongo import MongoClient\n",
    "import pprint\n",
    "\n",
    "client = MongoClient(\"mongodb://localhost:27017\")\n",
    "db = client.examples\n",
    "\n",
    "def main():\n",
    "    city = db.cities.find_one({\"name\": \"Munchen\",\n",
    "                              \"country\": \"Germany\"})\n",
    "    city[\"isoCountryCode\"] = \"DEU\"\n",
    "    db.cities.save(city)\n",
    "    \n",
    "if __name__ == '__main__':\n",
    "    main()"
   ]
  },
  {
   "cell_type": "code",
   "execution_count": null,
   "metadata": {
    "collapsed": true
   },
   "outputs": [],
   "source": [
    "#another example:\n",
    "def main():\n",
    "    city = db.cities.update({\"name\": \"Munchen\",\n",
    "                            \"country\": \"Germany\"},\n",
    "                           {\"$set\": {\n",
    "                               \"isoCountryCode\": \"DEU\"\n",
    "                           }})\n",
    "\n",
    "if __name__ == '__main__':\n",
    "    main()"
   ]
  }
 ],
 "metadata": {
  "kernelspec": {
   "display_name": "Python 3",
   "language": "python",
   "name": "python3"
  },
  "language_info": {
   "codemirror_mode": {
    "name": "ipython",
    "version": 3
   },
   "file_extension": ".py",
   "mimetype": "text/x-python",
   "name": "python",
   "nbconvert_exporter": "python",
   "pygments_lexer": "ipython3",
   "version": "3.6.3"
  }
 },
 "nbformat": 4,
 "nbformat_minor": 2
}
