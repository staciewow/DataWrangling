{
 "cells": [
  {
   "cell_type": "markdown",
   "metadata": {},
   "source": [
    "## Preparing Data"
   ]
  },
  {
   "cell_type": "code",
   "execution_count": 1,
   "metadata": {
    "collapsed": true
   },
   "outputs": [],
   "source": [
    "import codecs\n",
    "import csv\n",
    "import json\n",
    "import pprint\n",
    "import re"
   ]
  },
  {
   "cell_type": "code",
   "execution_count": 2,
   "metadata": {
    "collapsed": true
   },
   "outputs": [],
   "source": [
    "DATAFILE = 'arachnid.csv'\n",
    "FIELDS ={'rdf-schema#label': 'label',\n",
    "         'URI': 'uri',\n",
    "         'rdf-schema#comment': 'description',\n",
    "         'synonym': 'synonym',\n",
    "         'name': 'name',\n",
    "         'family_label': 'family',\n",
    "         'class_label': 'class',\n",
    "         'phylum_label': 'phylum',\n",
    "         'order_label': 'order',\n",
    "         'kingdom_label': 'kingdom',\n",
    "         'genus_label': 'genus'}"
   ]
  },
  {
   "cell_type": "code",
   "execution_count": 6,
   "metadata": {
    "collapsed": true
   },
   "outputs": [],
   "source": [
    "def process_file(filename, fields):\n",
    "\n",
    "    process_fields = fields.keys()\n",
    "    data = []\n",
    "    with open(filename, \"r\") as f:\n",
    "        reader = csv.DictReader(f)\n",
    "        for i in range(3):\n",
    "            l = next(reader)\n",
    "\n",
    "        for line in reader:\n",
    "            # YOUR CODE HERE\n",
    "            arachnid = {}\n",
    "            classification = {}\n",
    "            for field, value in line.items():\n",
    "                if field in FIELDS:\n",
    "                    new_key = FIELDS[field]\n",
    "                    new_val = value\n",
    "                    if new_key in ['kingdom','family','class','phylum','order','genus']:\n",
    "                        classification[new_key] = new_val\n",
    "                    else:\n",
    "                        arachnid[new_key] = new_val\n",
    "            arachnid['classification'] = classification\n",
    "            data.append(arachnid)\n",
    "\n",
    "        # additional cleaning\n",
    "        for arachnid in data:\n",
    "            # strip redundant text from label\n",
    "            arachnid['label'] = re.sub('\\(.*?\\)', '', arachnid['label']).strip()\n",
    "            # fix 'name' if 'NULL' or contains non-alphanumeric characters\n",
    "            if arachnid['name'] == 'NULL' or not arachnid['name'].isalnum():\n",
    "                arachnid['name'] = arachnid['label']\n",
    "            # if synonym is not None, convert to an array (strip '{}' and split on '|')\n",
    "            if arachnid['synonym'] != 'NULL':\n",
    "                arachnid['synonym'] = arachnid['synonym'].replace('{','').replace('}','').split('|')\n",
    "            # if any value is 'NULL' change to None\n",
    "            for field, value in arachnid.items():\n",
    "                if value == 'NULL':\n",
    "                    arachnid[field] = None\n",
    "                # strip all leading/trailing whitespace from values\n",
    "                try:\n",
    "                    arachnid[field] = arachnid[field].strip()\n",
    "                except AttributeError:\n",
    "                    continue\n",
    "            # fix 'classification' whitespace and 'NULL' values\n",
    "            for field, value in arachnid['classification'].items():\n",
    "                arachnid['classification'][field] = arachnid['classification'][field].strip()\n",
    "                if value == 'NULL':\n",
    "                    arachnid['classification'][field] = None\n",
    "\n",
    "    #pprint.pprint(data)\n",
    "    return data"
   ]
  },
  {
   "cell_type": "code",
   "execution_count": 7,
   "metadata": {
    "collapsed": true
   },
   "outputs": [],
   "source": [
    "def parse_array(v):\n",
    "    if (v[0] == \"{\") and (v[-1] == \"}\"):\n",
    "        v = v.lstrip(\"{\")\n",
    "        v = v.rstrip(\"}\")\n",
    "        v_array = v.split(\"|\")\n",
    "        v_array = [i.strip() for i in v_array]\n",
    "        return v_array\n",
    "    return [v]"
   ]
  },
  {
   "cell_type": "code",
   "execution_count": 8,
   "metadata": {},
   "outputs": [
    {
     "name": "stdout",
     "output_type": "stream",
     "text": [
      "{'classification': {'class': 'Arachnid',\n",
      "                    'family': 'Orb-weaver spider',\n",
      "                    'genus': None,\n",
      "                    'kingdom': 'Animal',\n",
      "                    'order': 'Spider',\n",
      "                    'phylum': 'Arthropod'},\n",
      " 'description': 'The genus Argiope includes rather large and spectacular '\n",
      "                'spiders that often have a strikingly coloured abdomen. These '\n",
      "                'spiders are distributed throughout the world. Most countries '\n",
      "                'in tropical or temperate climates host one or more species '\n",
      "                'that are similar in appearance. The etymology of the name is '\n",
      "                'from a Greek name meaning silver-faced.',\n",
      " 'label': 'Argiope',\n",
      " 'name': 'Argiope',\n",
      " 'synonym': None,\n",
      " 'uri': 'http://dbpedia.org/resource/Argiope_(spider)'}\n"
     ]
    }
   ],
   "source": [
    "def test():\n",
    "    data = process_file(DATAFILE, FIELDS)\n",
    "\n",
    "    pprint.pprint(data[0])\n",
    "    assert data[0] == {\n",
    "                        \"synonym\": None, \n",
    "                        \"name\": \"Argiope\", \n",
    "                        \"classification\": {\n",
    "                            \"kingdom\": \"Animal\", \n",
    "                            \"family\": \"Orb-weaver spider\", \n",
    "                            \"order\": \"Spider\", \n",
    "                            \"phylum\": \"Arthropod\", \n",
    "                            \"genus\": None, \n",
    "                            \"class\": \"Arachnid\"\n",
    "                        }, \n",
    "                        \"uri\": \"http://dbpedia.org/resource/Argiope_(spider)\", \n",
    "                        \"label\": \"Argiope\", \n",
    "                        \"description\": \"The genus Argiope includes rather large and spectacular spiders that often have a strikingly coloured abdomen. These spiders are distributed throughout the world. Most countries in tropical or temperate climates host one or more species that are similar in appearance. The etymology of the name is from a Greek name meaning silver-faced.\"\n",
    "                    }\n",
    "\n",
    "\n",
    "if __name__ == \"__main__\":\n",
    "    test()"
   ]
  },
  {
   "cell_type": "markdown",
   "metadata": {},
   "source": [
    "## Inserting into DB"
   ]
  },
  {
   "cell_type": "code",
   "execution_count": 9,
   "metadata": {
    "collapsed": true
   },
   "outputs": [],
   "source": [
    "import json"
   ]
  },
  {
   "cell_type": "code",
   "execution_count": 10,
   "metadata": {
    "collapsed": true
   },
   "outputs": [],
   "source": [
    "def insert_data(data, db):\n",
    "\n",
    "    # Your code here. Insert the data into a collection 'arachnid'\n",
    "    for a in data:\n",
    "        db.arachnid.insert(a)\n",
    "    pass"
   ]
  },
  {
   "cell_type": "code",
   "execution_count": 11,
   "metadata": {},
   "outputs": [
    {
     "name": "stdout",
     "output_type": "stream",
     "text": [
      "{'_id': ObjectId('5b0ef95ba24d68392c838f6e'), 'synonym': None, 'name': 'Argiope', 'classification': {'kingdom': 'Animal', 'family': 'Orb-weaver spider', 'order': 'Spider', 'phylum': 'Arthropod', 'genus': None, 'class': 'Arachnid'}, 'uri': 'http://dbpedia.org/resource/Argiope_(spider)', 'label': 'Argiope', 'description': 'The genus Argiope includes rather large and spectacular spiders that often have a strikingly coloured abdomen. These spiders are distributed throughout the world. Most countries in tropical or temperate climates host one or more species that are similar in appearance. The etymology of the name is from a Greek name meaning silver-faced.'}\n"
     ]
    },
    {
     "name": "stderr",
     "output_type": "stream",
     "text": [
      "/Users/shuixin/anaconda3/lib/python3.6/site-packages/ipykernel_launcher.py:5: DeprecationWarning: insert is deprecated. Use insert_one or insert_many instead.\n",
      "  \"\"\"\n"
     ]
    }
   ],
   "source": [
    "if __name__ == \"__main__\":\n",
    "    \n",
    "    from pymongo import MongoClient\n",
    "    client = MongoClient(\"mongodb://localhost:27017\")\n",
    "    db = client.examples\n",
    "\n",
    "    with open('arachnid.json') as f:\n",
    "        data = json.loads(f.read())\n",
    "        insert_data(data, db)\n",
    "        print (db.arachnid.find_one())"
   ]
  },
  {
   "cell_type": "code",
   "execution_count": null,
   "metadata": {
    "collapsed": true
   },
   "outputs": [],
   "source": []
  }
 ],
 "metadata": {
  "kernelspec": {
   "display_name": "Python 3",
   "language": "python",
   "name": "python3"
  },
  "language_info": {
   "codemirror_mode": {
    "name": "ipython",
    "version": 3
   },
   "file_extension": ".py",
   "mimetype": "text/x-python",
   "name": "python",
   "nbconvert_exporter": "python",
   "pygments_lexer": "ipython3",
   "version": "3.6.3"
  }
 },
 "nbformat": 4,
 "nbformat_minor": 2
}
