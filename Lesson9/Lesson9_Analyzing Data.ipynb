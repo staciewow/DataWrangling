{
 "cells": [
  {
   "cell_type": "markdown",
   "metadata": {},
   "source": [
    "### Who Tweeted Most?\n",
    "\n",
    "1. Group tweets by user\n",
    "2. Count each user's tweets\n",
    "3. Sort into descentding order\n",
    "4. Select user at top"
   ]
  },
  {
   "cell_type": "code",
   "execution_count": 6,
   "metadata": {},
   "outputs": [
    {
     "name": "stderr",
     "output_type": "stream",
     "text": [
      "/Users/shuixin/anaconda3/lib/python3.6/site-packages/ipykernel_launcher.py:19: DeprecationWarning: insert is deprecated. Use insert_one or insert_many instead.\n"
     ]
    },
    {
     "name": "stdout",
     "output_type": "stream",
     "text": [
      "{'_id': ObjectId('5b101612a24d683bec191b47'),\n",
      " 'contributors': None,\n",
      " 'coordinates': None,\n",
      " 'created_at': 'Thu Sep 02 18:11:23 +0000 2010',\n",
      " 'entities': {'hashtags': [], 'urls': [], 'user_mentions': []},\n",
      " 'favorited': False,\n",
      " 'geo': None,\n",
      " 'id': 22819396900,\n",
      " 'in_reply_to_screen_name': None,\n",
      " 'in_reply_to_status_id': None,\n",
      " 'in_reply_to_user_id': None,\n",
      " 'place': None,\n",
      " 'retweet_count': None,\n",
      " 'retweeted': False,\n",
      " 'source': 'web',\n",
      " 'text': 'eu preciso de terminar de fazer a minha tabela, está muito foda **',\n",
      " 'truncated': False,\n",
      " 'user': {'contributors_enabled': False,\n",
      "          'created_at': 'Fri Jul 03 21:44:05 +0000 2009',\n",
      "          'description': 'só os loucos sabem (:',\n",
      "          'favourites_count': 1,\n",
      "          'follow_request_sent': None,\n",
      "          'followers_count': 102,\n",
      "          'following': None,\n",
      "          'friends_count': 73,\n",
      "          'geo_enabled': False,\n",
      "          'id': 53507833,\n",
      "          'lang': 'en',\n",
      "          'listed_count': 0,\n",
      "          'location': '',\n",
      "          'name': 'Beatriz Helena Cunha',\n",
      "          'notifications': None,\n",
      "          'profile_background_color': '081114',\n",
      "          'profile_background_image_url': 'http://a1.twimg.com/profile_background_images/133178546/biatwitter.jpg',\n",
      "          'profile_background_tile': True,\n",
      "          'profile_image_url': 'http://a2.twimg.com/profile_images/1036412454/OgAAADXK9q6kaxrvfwQTINH66RVLAH9YHb-veRTA4FaWb9KtbGGV_yKTGzmvzTfJidqAb5gK_mpspIE-MIvAASGH2CwAm1T1UIPQk0-HS8x_TV5kdnW30nch7ODk-1_normal.jpg',\n",
      "          'profile_link_color': 'eb55b6',\n",
      "          'profile_sidebar_border_color': '1c9dbd',\n",
      "          'profile_sidebar_fill_color': '768575',\n",
      "          'profile_text_color': '25b8c2',\n",
      "          'profile_use_background_image': True,\n",
      "          'protected': False,\n",
      "          'screen_name': 'Bia_cunha1',\n",
      "          'show_all_inline_media': False,\n",
      "          'statuses_count': 3504,\n",
      "          'time_zone': 'Brasilia',\n",
      "          'url': 'http://http://www.orkut.com.br/Main#Profile?uid=1433295880233078770',\n",
      "          'utc_offset': -10800,\n",
      "          'verified': False}}\n"
     ]
    }
   ],
   "source": [
    "import json \n",
    "import pprint\n",
    "\n",
    "def insert_data(data, db):\n",
    "    for a in data:\n",
    "        db.twitter.insert(a)\n",
    "\n",
    "if __name__ == \"__main__\":\n",
    "    \n",
    "    from pymongo import MongoClient\n",
    "    client = MongoClient(\"mongodb://localhost:27017\")\n",
    "    db = client.examples\n",
    "    \n",
    "    # Available here: http://content.udacity-data.com/ud032/twitter/twitter.json.zip\n",
    "    with open('twitter.json', 'r') as f:\n",
    "        ## json.loads() takes a string, while json.load() takes a file-like object.\n",
    "        ## http://stackoverflow.com/questions/11568246/loading-several-text-files-into-mongodb-using-pymongo\n",
    "        for tweet in f.readlines():\n",
    "            db.twitter.insert(json.loads(tweet))\n",
    "    pprint.pprint(db.twitter.find_one())"
   ]
  },
  {
   "cell_type": "markdown",
   "metadata": {},
   "source": [
    "## $$$group,  $sort  $$"
   ]
  },
  {
   "cell_type": "code",
   "execution_count": 1,
   "metadata": {
    "collapsed": true
   },
   "outputs": [],
   "source": [
    "from pymongo import MongoClient\n",
    "import pprint\n",
    "\n",
    "def get_db(db_name):\n",
    "    from pymongo import MongoClient\n",
    "    client = MongoClient(\"mongodb://localhost:27017\")\n",
    "    db = client[db_name]\n",
    "    return db"
   ]
  },
  {
   "cell_type": "code",
   "execution_count": 2,
   "metadata": {
    "collapsed": true
   },
   "outputs": [],
   "source": [
    "def make_pipeline():\n",
    "    pipeline = [{\"$group\": {\"_id\": \"$source\",\n",
    "                            \"count\": {\"$sum\": 1}}},\n",
    "                 {\"$sort\": {\"count\": -1}},\n",
    "                 {\"$limit\" : 5 }]\n",
    "    return pipeline"
   ]
  },
  {
   "cell_type": "code",
   "execution_count": 3,
   "metadata": {},
   "outputs": [],
   "source": [
    "def tweet_sources(db, pipeline):\n",
    "    result = db.tweets.aggregate(pipeline)\n",
    "    return result"
   ]
  },
  {
   "cell_type": "code",
   "execution_count": 4,
   "metadata": {},
   "outputs": [
    {
     "name": "stdout",
     "output_type": "stream",
     "text": [
      "<pymongo.command_cursor.CommandCursor object at 0x1034c55f8>\n"
     ]
    }
   ],
   "source": [
    "if __name__ == '__main__':\n",
    "    db = get_db('example_tweets')\n",
    "    pipeline = make_pipeline()\n",
    "    result = tweet_sources(db, pipeline)\n",
    "    import pprint\n",
    "    pprint.pprint(result)"
   ]
  },
  {
   "cell_type": "markdown",
   "metadata": {},
   "source": [
    "## $$$project,  $match,  $skip,  $limit,  $unwind  $$"
   ]
  },
  {
   "cell_type": "markdown",
   "metadata": {},
   "source": [
    "### Who has the highest follower/friends ratio?"
   ]
  },
  {
   "cell_type": "code",
   "execution_count": 7,
   "metadata": {
    "collapsed": true
   },
   "outputs": [],
   "source": [
    "def highest_ratio():\n",
    "    result = db.tweets.aggregate([\n",
    "        {\"$match\": {\"user.friends_count\": {\"$gt\": 0},\n",
    "                   \"user.follower_count\": {\"$gt\": 0}}},\n",
    "        {\"$project\": {\"ratio\":{\"$divide\": [\"$user.followers_count\",\n",
    "                                          \"$user.friends_count\"]},\n",
    "                     \"screen_name\": \"$user.screen_name\"}},\n",
    "        {\"$sort\": {\"ratio\": -1}},\n",
    "        {\"$limit\": 1}\n",
    "    ])\n",
    "    \n",
    "    return result"
   ]
  },
  {
   "cell_type": "markdown",
   "metadata": {},
   "source": [
    "### Use $project to:\n",
    "- Include fields from the original document\n",
    "- Insert computed fields\n",
    "- Rename fields\n",
    "- Create fields that hold sub-documents"
   ]
  },
  {
   "cell_type": "code",
   "execution_count": null,
   "metadata": {
    "collapsed": true
   },
   "outputs": [],
   "source": []
  }
 ],
 "metadata": {
  "kernelspec": {
   "display_name": "Python 3",
   "language": "python",
   "name": "python3"
  },
  "language_info": {
   "codemirror_mode": {
    "name": "ipython",
    "version": 3
   },
   "file_extension": ".py",
   "mimetype": "text/x-python",
   "name": "python",
   "nbconvert_exporter": "python",
   "pygments_lexer": "ipython3",
   "version": "3.6.3"
  }
 },
 "nbformat": 4,
 "nbformat_minor": 2
}
